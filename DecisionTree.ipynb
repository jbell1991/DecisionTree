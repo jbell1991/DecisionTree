{
 "cells": [
  {
   "cell_type": "code",
   "execution_count": 1,
   "metadata": {},
   "outputs": [],
   "source": [
    "import numpy as np\n",
    "import pandas as pd\n",
    "import random"
   ]
  },
  {
   "cell_type": "code",
   "execution_count": 2,
   "metadata": {},
   "outputs": [
    {
     "data": {
      "text/html": [
       "<div>\n",
       "<style scoped>\n",
       "    .dataframe tbody tr th:only-of-type {\n",
       "        vertical-align: middle;\n",
       "    }\n",
       "\n",
       "    .dataframe tbody tr th {\n",
       "        vertical-align: top;\n",
       "    }\n",
       "\n",
       "    .dataframe thead th {\n",
       "        text-align: right;\n",
       "    }\n",
       "</style>\n",
       "<table border=\"1\" class=\"dataframe\">\n",
       "  <thead>\n",
       "    <tr style=\"text-align: right;\">\n",
       "      <th></th>\n",
       "      <th>SepalLengthCm</th>\n",
       "      <th>SepalWidthCm</th>\n",
       "      <th>PetalLengthCm</th>\n",
       "      <th>PetalWidthCm</th>\n",
       "      <th>target</th>\n",
       "    </tr>\n",
       "  </thead>\n",
       "  <tbody>\n",
       "    <tr>\n",
       "      <td>0</td>\n",
       "      <td>5.1</td>\n",
       "      <td>3.5</td>\n",
       "      <td>1.4</td>\n",
       "      <td>0.2</td>\n",
       "      <td>Iris-setosa</td>\n",
       "    </tr>\n",
       "    <tr>\n",
       "      <td>1</td>\n",
       "      <td>4.9</td>\n",
       "      <td>3.0</td>\n",
       "      <td>1.4</td>\n",
       "      <td>0.2</td>\n",
       "      <td>Iris-setosa</td>\n",
       "    </tr>\n",
       "    <tr>\n",
       "      <td>2</td>\n",
       "      <td>4.7</td>\n",
       "      <td>3.2</td>\n",
       "      <td>1.3</td>\n",
       "      <td>0.2</td>\n",
       "      <td>Iris-setosa</td>\n",
       "    </tr>\n",
       "    <tr>\n",
       "      <td>3</td>\n",
       "      <td>4.6</td>\n",
       "      <td>3.1</td>\n",
       "      <td>1.5</td>\n",
       "      <td>0.2</td>\n",
       "      <td>Iris-setosa</td>\n",
       "    </tr>\n",
       "    <tr>\n",
       "      <td>4</td>\n",
       "      <td>5.0</td>\n",
       "      <td>3.6</td>\n",
       "      <td>1.4</td>\n",
       "      <td>0.2</td>\n",
       "      <td>Iris-setosa</td>\n",
       "    </tr>\n",
       "  </tbody>\n",
       "</table>\n",
       "</div>"
      ],
      "text/plain": [
       "   SepalLengthCm  SepalWidthCm  PetalLengthCm  PetalWidthCm       target\n",
       "0            5.1           3.5            1.4           0.2  Iris-setosa\n",
       "1            4.9           3.0            1.4           0.2  Iris-setosa\n",
       "2            4.7           3.2            1.3           0.2  Iris-setosa\n",
       "3            4.6           3.1            1.5           0.2  Iris-setosa\n",
       "4            5.0           3.6            1.4           0.2  Iris-setosa"
      ]
     },
     "execution_count": 2,
     "metadata": {},
     "output_type": "execute_result"
    }
   ],
   "source": [
    "df = pd.read_csv('/Users/josephbell/Downloads/iris.csv')\n",
    "df = df.drop(\"Id\", axis = 1)\n",
    "df = df.rename(columns = {\"Species\" : \"target\"})\n",
    "df.head()"
   ]
  },
  {
   "cell_type": "code",
   "execution_count": 3,
   "metadata": {},
   "outputs": [],
   "source": [
    "# train test split\n",
    "def train_test_split(df, target, test_size):\n",
    "    # shuffles data\n",
    "    random_df = df.sample(frac=1)\n",
    "    # splits data into train and test based on test size %\n",
    "    test_split = int(test_size * len(df))\n",
    "    train_df = random_df[test_split:]\n",
    "    test_df = random_df[:test_split]\n",
    "    return train_df, test_df"
   ]
  },
  {
   "cell_type": "code",
   "execution_count": 4,
   "metadata": {},
   "outputs": [
    {
     "data": {
      "text/plain": [
       "((120, 5), (30, 5))"
      ]
     },
     "execution_count": 4,
     "metadata": {},
     "output_type": "execute_result"
    }
   ],
   "source": [
    "train_df, test_df = train_test_split(df, target='label', test_size=.2)\n",
    "# check to see that data is split properly\n",
    "train_df.shape, test_df.shape"
   ]
  },
  {
   "cell_type": "code",
   "execution_count": 5,
   "metadata": {},
   "outputs": [
    {
     "data": {
      "text/plain": [
       "array([[6.7, 2.5, 5.8, 1.8, 'Iris-virginica'],\n",
       "       [6.9, 3.1, 5.1, 2.3, 'Iris-virginica'],\n",
       "       [5.0, 3.3, 1.4, 0.2, 'Iris-setosa'],\n",
       "       [5.8, 2.7, 5.1, 1.9, 'Iris-virginica'],\n",
       "       [4.7, 3.2, 1.3, 0.2, 'Iris-setosa']], dtype=object)"
      ]
     },
     "execution_count": 5,
     "metadata": {},
     "output_type": "execute_result"
    }
   ],
   "source": [
    "data = train_df.values\n",
    "data[:5]"
   ]
  },
  {
   "cell_type": "code",
   "execution_count": 6,
   "metadata": {},
   "outputs": [],
   "source": [
    "class Node(object):\n",
    "    def __init__(self, target=None, attribute=None, splitvalue=None, left=None, right=None):\n",
    "        self.target = target\n",
    "        self.attribute = attribute\n",
    "        self.splitvalue = splitvalue\n",
    "        self.left = left\n",
    "        self.right = right\n",
    "        \n",
    "    def set_target(self, target):\n",
    "        self.target = target \n",
    "        \n",
    "    def set_attribute(self, attribute, splitvalue):\n",
    "        self.attribute = attribute\n",
    "        self.splitvalue = splitvalue"
   ]
  },
  {
   "cell_type": "code",
   "execution_count": 7,
   "metadata": {},
   "outputs": [],
   "source": [
    "class DecisionTree():\n",
    "    def __init__(self, min_samples_split=2):\n",
    "        self.min_samples_split = min_samples_split\n",
    "\n",
    "    # is the data pure meaning does the split contain only 1 class?\n",
    "    def check_purity(self, data):\n",
    "        # access all the rows of the target column of the data\n",
    "        target_column = data[:, -1]\n",
    "        # determine the number of unique classes\n",
    "        unique_classes = np.unique(target_column)\n",
    "        # if the number of unique classes is equal to 1\n",
    "        if len(unique_classes) == 1:\n",
    "            # the data is pure, return True\n",
    "            return True\n",
    "        else:\n",
    "            # the data is not pure, return False\n",
    "            return False\n",
    "        \n",
    "    def calculate_entropy(self, data):\n",
    "        # access all the rows of the target column of the data\n",
    "        target_column = data[:, -1]\n",
    "        # determine the number of unique classes\n",
    "        _, counts = np.unique(target_column, return_counts=True)\n",
    "        # get probabilites of each class\n",
    "        probabilities = counts / counts.sum()\n",
    "        entropy = sum(probabilities * -np.log2(probabilities))\n",
    "        return entropy\n",
    "\n",
    "    def info_gain(self, data, column_index, splitval):\n",
    "        split_column_values = data[:, column_index]\n",
    "        data_left = data[split_column_values <= splitval]\n",
    "        data_right = data[split_column_values > splitval]\n",
    "\n",
    "        data_points = len(data_left) + len(data_right)\n",
    "        p_data_left = len(data_left) / data_points\n",
    "        p_data_right = len(data_right) / data_points\n",
    "\n",
    "        info_gain = self.calculate_entropy(data) - (p_data_right * self.calculate_entropy(data_right) \n",
    "                    + p_data_left *  self.calculate_entropy(data_left))\n",
    "        return info_gain\n",
    "\n",
    "    def find_best_split(self, data):\n",
    "        bestgain = 0\n",
    "        _, n_columns = data.shape\n",
    "        for column_index in range(n_columns-1):\n",
    "            values = data[:, column_index]\n",
    "            unique_values = np.unique(values)\n",
    "            for i in range(1,len(unique_values)):\n",
    "                splitval = (unique_values[i-1] + unique_values[i]) / 2\n",
    "                gain = self.info_gain(data, column_index, splitval)\n",
    "                if gain >= bestgain:\n",
    "                    bestgain = gain\n",
    "                    bestattribute = column_index\n",
    "                    bestsplitval = splitval\n",
    "        return bestattribute, bestsplitval\n",
    "        \n",
    "    # classify data by majority class\n",
    "    def classify_data(self, data):\n",
    "        # access all the rows of the last column of the data\n",
    "        target_column = data[:, -1]\n",
    "        unique_classes, counts_unique_classes = np.unique(target_column, return_counts=True)\n",
    "        # finds the majority class in the data\n",
    "        index = counts_unique_classes.argmax()\n",
    "        classification = unique_classes[index]\n",
    "        return classification\n",
    "    \n",
    "    def fit(self, data):\n",
    "        if len(data) < self.min_samples_split or self.check_purity(data):\n",
    "            node = Node()\n",
    "            count = 0 \n",
    "            target_column = data[:, -1]\n",
    "            unique_classes, counts_unique_classes = np.unique(target_column, return_counts = True)\n",
    "            index = counts_unique_classes.argmax()\n",
    "            for i in counts_unique_classes:\n",
    "                if counts_unique_classes[index] == i:\n",
    "                    count+=1\n",
    "            if count == 1:       \n",
    "                node.set_target(unique_classes[index])\n",
    "            return node\n",
    "\n",
    "        node = Node()\n",
    "        column_index ,split = self.find_best_split(data)\n",
    "        node.set_attribute(attribute = column_index, splitvalue = split)\n",
    "        node.left = self.fit(data[data[:, column_index] < split])\n",
    "        node.right = self.fit(data[data[:, column_index] > split])\n",
    "\n",
    "        return node\n",
    "    \n",
    "    def get_target(self, row, n):\n",
    "        while n.target is None:\n",
    "            if row[n.attribute] <= n.splitvalue:\n",
    "                n = n.left \n",
    "            else:\n",
    "                n = n.right\n",
    "        return n.target\n",
    "\n",
    "    def predict(self, tree, X_test):\n",
    "        targets = []\n",
    "        for i in X_test:\n",
    "            target = self.get_target(i, tree)\n",
    "            targets.append(target)\n",
    "        return targets\n",
    "\n",
    "    def acc_score(self, y_true, y_pred):\n",
    "        acc_score = np.sum(y_true == y_pred) / len(y_pred)\n",
    "        return acc_score"
   ]
  },
  {
   "cell_type": "code",
   "execution_count": 8,
   "metadata": {},
   "outputs": [
    {
     "name": "stdout",
     "output_type": "stream",
     "text": [
      "0.9666666666666667\n"
     ]
    }
   ],
   "source": [
    "data = train_df.values\n",
    "X_test = test_df.values[:, :-1]\n",
    "y_test = test_df['target'].values\n",
    "\n",
    "tree = DecisionTree(min_samples_split=10)\n",
    "root = tree.fit(data)\n",
    "y_pred = tree.predict(root, X_test)\n",
    "acc_score = tree.acc_score(y_test, y_pred)\n",
    "print(acc_score)"
   ]
  },
  {
   "cell_type": "code",
   "execution_count": 9,
   "metadata": {},
   "outputs": [
    {
     "name": "stdout",
     "output_type": "stream",
     "text": [
      "0.9666666666666667\n"
     ]
    }
   ],
   "source": [
    "from sklearn.datasets import load_iris\n",
    "from sklearn.metrics import accuracy_score\n",
    "from sklearn.tree import DecisionTreeClassifier\n",
    "\n",
    "X_train = data[:, :-1]\n",
    "y_train = data[:, -1]\n",
    "X_test = test_df.values[:, :-1]\n",
    "y_test = test_df['target'].values\n",
    "\n",
    "clf = DecisionTreeClassifier(min_samples_split=10)\n",
    "clf = clf.fit(X_train, y_train)\n",
    "y_pred = clf.predict(X_test)\n",
    "print(accuracy_score(y_test, y_pred))"
   ]
  }
 ],
 "metadata": {
  "kernelspec": {
   "display_name": "Python 3",
   "language": "python",
   "name": "python3"
  },
  "language_info": {
   "codemirror_mode": {
    "name": "ipython",
    "version": 3
   },
   "file_extension": ".py",
   "mimetype": "text/x-python",
   "name": "python",
   "nbconvert_exporter": "python",
   "pygments_lexer": "ipython3",
   "version": "3.7.4"
  }
 },
 "nbformat": 4,
 "nbformat_minor": 4
}
